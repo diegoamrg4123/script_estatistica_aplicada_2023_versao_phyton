{
 "cells": [
  {
   "metadata": {},
   "cell_type": "markdown",
   "source": [
    "Esse script foi feito adaptando as análises que já havia realizando antes com R, mas para Phyton, para aprender na prática a linguagem. O Script contém exemplo de análises estatísticas básicas, a partir de análise tabular, e teste de chi quadrado, Teste para diferença de médias, Correlação de Pearson e Regressão Linear\n",
    "\n",
    "Principais mudanças do R para o Python pelo que eu pesquisei:\n",
    "\n",
    "- tidyverse - pandas\n",
    "- ggplot2 - matplotlib/seaborn\n",
    "- CrossTable() - scipy.stats.chi2_contingency()\n",
    "- t.test() - scipy.stats.ttest_ind()\n",
    "- lm() - statsmodels.api.OLS()\n",
    "- cor.test() - scipy.stats.pearsonr()"
   ],
   "id": "db98f6a332366c49"
  },
  {
   "metadata": {
    "ExecuteTime": {
     "end_time": "2025-08-07T20:31:19.763341Z",
     "start_time": "2025-08-07T20:31:19.755924Z"
    }
   },
   "cell_type": "code",
   "source": "github_base = \"https://raw.githubusercontent.com/diegoamrg4123/script_estatistica_aplicada_2023/main/\"",
   "id": "2256a5aa90113b27",
   "outputs": [],
   "execution_count": 19
  },
  {
   "metadata": {
    "ExecuteTime": {
     "end_time": "2025-08-07T20:31:21.945082Z",
     "start_time": "2025-08-07T20:31:21.940673Z"
    }
   },
   "cell_type": "code",
   "source": [
    "import pandas as pd\n",
    "import numpy as np\n",
    "import matplotlib.pyplot as plt\n",
    "import seaborn as sns\n",
    "from scipy import stats\n",
    "from scipy.stats import chi2_contingency, ttest_ind, pearsonr\n",
    "import statsmodels.api as sm\n",
    "from statsmodels.formula.api import ols\n",
    "import warnings\n",
    "warnings.filterwarnings(\"ignore\")"
   ],
   "id": "e89abc3fe39a844a",
   "outputs": [],
   "execution_count": 20
  },
  {
   "metadata": {
    "ExecuteTime": {
     "end_time": "2025-08-07T20:31:23.737202Z",
     "start_time": "2025-08-07T20:31:23.732276Z"
    }
   },
   "cell_type": "code",
   "source": [
    "plt.style.use(\"seaborn-v0_8-whitegrid\")\n",
    "sns.set_palette(\"husl\")"
   ],
   "id": "5d2e8a48cffa3c8c",
   "outputs": [],
   "execution_count": 21
  },
  {
   "metadata": {
    "ExecuteTime": {
     "end_time": "2025-08-07T20:31:26.563707Z",
     "start_time": "2025-08-07T20:31:26.555874Z"
    }
   },
   "cell_type": "code",
   "source": [
    "def crosstab_chi2(var1, var2, var1_name=\"Var1\", var2_name=\"Var2\"):\n",
    "    temp_df = pd.DataFrame({var1_name: var1, var2_name: var2})\n",
    "    temp_df_clean = temp_df.dropna()\n",
    "    if len(temp_df_clean) == 0:\n",
    "        print(f\"nenhuma observacao valida para {var1_name} vs {var2_name}\")\n",
    "        return None, None, None\n",
    "    var1_clean = temp_df_clean[var1_name]\n",
    "    var2_clean = temp_df_clean[var2_name]\n",
    "    print(f\"\\n{'='*60}\")\n",
    "    print(f\"teste chi-quadrado: {var1_name} vs {var2_name}\")\n",
    "    print(f\"observacoes validas: {len(temp_df_clean)}\")\n",
    "    contingency_table = pd.crosstab(var1_clean, var2_clean, margins=True)\n",
    "    print(f\"\\ntabela de contingencia\")\n",
    "    print(contingency_table)\n",
    "    table_no_margins = pd.crosstab(var1_clean, var2_clean)\n",
    "    chi2, p_value, dof, expected = chi2_contingency(table_no_margins)\n",
    "    print(f\"\\nresultados:\")\n",
    "    print(f\"chi-quadrado: {chi2:.4f}\")\n",
    "    print(f\"graus de liberdade: {dof}\")\n",
    "    print(f\"p-valor: {p_value:.6f}\")\n",
    "    print(f\"valor critico (a=0.05): {stats.chi2.ppf(0.95, dof):.4f}\")\n",
    "    if p_value < 0.05:\n",
    "        print(\"p valor e menor que 0,05, podemos rejeitar a hipotese nula de que qualquer relacao vem do acaso\")\n",
    "    else:\n",
    "        print(\"p valor foi maior que 0,05\")\n",
    "    print(f\"\\ndistribuicao percentual\")\n",
    "    percent_table = pd.crosstab(var1_clean, var2_clean, normalize='index') * 100\n",
    "    print(percent_table.round(1))\n",
    "    return chi2, p_value, contingency_table"
   ],
   "id": "61ef24199bc7ece0",
   "outputs": [],
   "execution_count": 22
  },
  {
   "metadata": {
    "ExecuteTime": {
     "end_time": "2025-08-07T20:31:31.308251Z",
     "start_time": "2025-08-07T20:31:31.068976Z"
    }
   },
   "cell_type": "code",
   "source": [
    "anes_url = github_base + \"ANES2016small.csv\"\n",
    "print(f\"carregando: {anes_url}\")\n",
    "try:\n",
    "    anes_data = pd.read_csv(anes_url, na_values=['NA'])\n",
    "    print(f\"anes2016 carregado: {anes_data.shape[0]} linhas x {anes_data.shape[1]} colunas\")\n",
    "    print(f\"\\ncolunas:\")\n",
    "    for i, col in enumerate(anes_data.columns, 1):\n",
    "        print(f\"   {i:2d}. {col}\")\n",
    "    print(f\"\\nvalores ausentes por variavel:\")\n",
    "    for col in ['V2Trump', 'unionHH', 'female']:\n",
    "        if col in anes_data.columns:\n",
    "            missing = anes_data[col].isna().sum()\n",
    "            valid = len(anes_data) - missing\n",
    "            print(f\"   {col}: {valid} validos, {missing} ausentes\")\n",
    "    anes_clean = anes_data[['V2Trump', 'unionHH', 'female']].dropna()\n",
    "    print(f\"\\ndataset limpo: {len(anes_clean)} observacoes completas\")\n",
    "    if len(anes_clean) > 0:\n",
    "        print(f\"\\n1- voto trump vs uniao no domicilioo\")\n",
    "        crosstab_chi2(anes_clean['V2Trump'], anes_clean['unionHH'],\n",
    "                     \"voto trump\", \"uniao no domicilio\")\n",
    "        print(f\"\\n2- voto trump vs genero\")\n",
    "        crosstab_chi2(anes_clean['V2Trump'], anes_clean['female'],\n",
    "                     \"voto trump\", \"genero\")\n",
    "    else:\n",
    "        print(\"nenhuma observacao\")\n",
    "except Exception as e:\n",
    "    print(f\"nao conseguiu carregar os dados: {e}\")\n"
   ],
   "id": "5ff7aedd16edcadb",
   "outputs": [
    {
     "name": "stdout",
     "output_type": "stream",
     "text": [
      "carregando: https://raw.githubusercontent.com/diegoamrg4123/script_estatistica_aplicada_2023/main/ANES2016small.csv\n",
      "anes2016 carregado: 4271 linhas x 3 colunas\n",
      "\n",
      "colunas:\n",
      "    1. unionHH\n",
      "    2. V2Trump\n",
      "    3. female\n",
      "\n",
      "valores ausentes por variavel:\n",
      "   V2Trump: 2468 validos, 1803 ausentes\n",
      "   unionHH: 4244 validos, 27 ausentes\n",
      "   female: 4219 validos, 52 ausentes\n",
      "\n",
      "dataset limpo: 2437 observacoes completas\n",
      "\n",
      "1- voto trump vs uniao no domicilioo\n",
      "\n",
      "============================================================\n",
      "teste chi-quadrado: voto trump vs uniao no domicilio\n",
      "observacoes validas: 2437\n",
      "\n",
      "tabela de contingencia\n",
      "uniao no domicilio   0.0  1.0   All\n",
      "voto trump                         \n",
      "0.0                 1052  215  1267\n",
      "1.0                 1014  156  1170\n",
      "All                 2066  371  2437\n",
      "\n",
      "resultados:\n",
      "chi-quadrado: 5.9521\n",
      "graus de liberdade: 1\n",
      "p-valor: 0.014700\n",
      "valor critico (a=0.05): 3.8415\n",
      "p valor e menor que 0,05, podemos rejeitar a hipotese nula de que qualquer relacao vem do acaso\n",
      "\n",
      "distribuicao percentual\n",
      "uniao no domicilio   0.0   1.0\n",
      "voto trump                    \n",
      "0.0                 83.0  17.0\n",
      "1.0                 86.7  13.3\n",
      "\n",
      "2- voto trump vs genero\n",
      "\n",
      "============================================================\n",
      "teste chi-quadrado: voto trump vs genero\n",
      "observacoes validas: 2437\n",
      "\n",
      "tabela de contingencia\n",
      "genero       0.0   1.0   All\n",
      "voto trump                  \n",
      "0.0          531   736  1267\n",
      "1.0          596   574  1170\n",
      "All         1127  1310  2437\n",
      "\n",
      "resultados:\n",
      "chi-quadrado: 19.5916\n",
      "graus de liberdade: 1\n",
      "p-valor: 0.000010\n",
      "valor critico (a=0.05): 3.8415\n",
      "p valor e menor que 0,05, podemos rejeitar a hipotese nula de que qualquer relacao vem do acaso\n",
      "\n",
      "distribuicao percentual\n",
      "genero       0.0   1.0\n",
      "voto trump            \n",
      "0.0         41.9  58.1\n",
      "1.0         50.9  49.1\n"
     ]
    }
   ],
   "execution_count": 23
  },
  {
   "metadata": {
    "ExecuteTime": {
     "end_time": "2025-08-07T20:31:34.704483Z",
     "start_time": "2025-08-07T20:31:34.476115Z"
    }
   },
   "cell_type": "code",
   "source": [
    "print(f\"\\n{'='*60}\")\n",
    "print(\"teste t para diferenca de medias\")\n",
    "corruption_url = github_base + \"ti_corruption_perception_index.csv\"\n",
    "print(f\"carregando: {corruption_url}\")\n",
    "try:\n",
    "    corruption_data = pd.read_csv(corruption_url, sep=';', encoding='utf-8')\n",
    "    print(f\"corrupcao - carregando: {corruption_data.shape[0]} linhas x {corruption_data.shape[1]} colunas\")\n",
    "    print(f\"\\n5 primeiras linhas:\")\n",
    "    print(corruption_data.head())\n",
    "    print(f\"\\ncolunas:\")\n",
    "    for i, col in enumerate(corruption_data.columns, 1):\n",
    "        print(f\"   {i:2d}. {col}\")\n",
    "except Exception as e:\n",
    "    print(f\"erro de carregamento de dados: {e}\")\n"
   ],
   "id": "86d17da5f8c361af",
   "outputs": [
    {
     "name": "stdout",
     "output_type": "stream",
     "text": [
      "\n",
      "============================================================\n",
      "teste t para diferenca de medias\n",
      "carregando: https://raw.githubusercontent.com/diegoamrg4123/script_estatistica_aplicada_2023/main/ti_corruption_perception_index.csv\n",
      "corrupcao - carregando: 1952 linhas x 5 colunas\n",
      "\n",
      "5 primeiras linhas:\n",
      "        Entity Code  Year  Corruption Perceptions Index  \\\n",
      "0  Afghanistan  AFG  2012                             8   \n",
      "1      Albania  ALB  2012                            33   \n",
      "2      Algeria  DZA  2012                            34   \n",
      "3       Angola  AGO  2012                            22   \n",
      "4    Argentina  ARG  2012                            35   \n",
      "\n",
      "   World regions according to OWID  \n",
      "0                              NaN  \n",
      "1                              NaN  \n",
      "2                              NaN  \n",
      "3                              NaN  \n",
      "4                              NaN  \n",
      "\n",
      "colunas:\n",
      "    1. Entity\n",
      "    2. Code\n",
      "    3. Year\n",
      "    4. Corruption Perceptions Index\n",
      "    5. World regions according to OWID\n"
     ]
    }
   ],
   "execution_count": 24
  },
  {
   "metadata": {
    "ExecuteTime": {
     "end_time": "2025-08-07T20:31:38.019157Z",
     "start_time": "2025-08-07T20:31:38.012349Z"
    }
   },
   "cell_type": "code",
   "source": [
    "year_col = None\n",
    "for col in corruption_data.columns:\n",
    "    if 'year' in col.lower():\n",
    "        year_col = col\n",
    "        break\n",
    "if year_col:\n",
    "    print(f\"coluna ano achada: '{year_col}'\")\n",
    "    try:\n",
    "        years_available = sorted([y for y in corruption_data[year_col].unique()\n",
    "                                if isinstance(y, (int, float)) and not pd.isna(y)])\n",
    "        print(f\"anos disponiveis: {years_available}\")\n",
    "    except:\n",
    "        print(\"problemas com a coluna ano\")\n",
    "        year_col = None\n",
    "else:\n",
    "    print(\"coluna ano nao encontrada\")\n",
    "\n",
    "corruption_col = None\n",
    "for col in corruption_data.columns:\n",
    "    if any(word in col.lower() for word in ['corruption', 'perception', 'index']):\n",
    "        corruption_col = col\n",
    "        break\n",
    "if not corruption_col:\n",
    "    print(\"coluna de corrupcao nao encontrada\")\n",
    "    print(\"colunas disponiveis:\")\n",
    "    for i, col in enumerate(corruption_data.columns, 1):\n",
    "        print(f\"   {i:2d}. '{col}'\")\n",
    "    raise Exception(\"coluna indice nao encontrada\")\n",
    "else:\n",
    "    print(f\"coluna de indice: '{corruption_col}'\")\n"
   ],
   "id": "2e6e38ef7cef3813",
   "outputs": [
    {
     "name": "stdout",
     "output_type": "stream",
     "text": [
      "coluna ano achada: 'Year'\n",
      "anos disponiveis: []\n",
      "coluna de indice: 'Corruption Perceptions Index'\n"
     ]
    }
   ],
   "execution_count": 25
  },
  {
   "metadata": {
    "ExecuteTime": {
     "end_time": "2025-08-07T20:31:40.788876Z",
     "start_time": "2025-08-07T20:31:40.780367Z"
    }
   },
   "cell_type": "code",
   "source": [
    "# tentativa de identificar a coluna de paises\n",
    "entity_cols = [col for col in corruption_data.columns if any(word in col.lower() for word in ['entity', 'country', 'name'])]\n",
    "if entity_cols:\n",
    "    entity_col = entity_cols[0]\n",
    "    print(f\"coluna de paises identificada: '{entity_col}'\")\n",
    "else:\n",
    "    # usar a primeira coluna como fallback\n",
    "    entity_col = corruption_data.columns[0]\n",
    "    print(f\"coluna de paises assumida como: '{entity_col}'\")\n",
    "\n",
    "paises_americas = ['United States', 'Canada', 'Mexico', 'Brazil', 'Chile', 'Argentina']\n",
    "#para selecionar os dados de 2022 nas americas\n",
    "if year_col:\n",
    "    print(f\"filtrando por ano 2022 nas americas\")\n",
    "    americas_data = corruption_data[\n",
    "        (corruption_data[year_col] == 2022) &\n",
    "        (corruption_data[entity_col].isin(paises_americas))\n",
    "    ].copy()\n",
    "else:\n",
    "    print(f\"filtrando por paises nas americas (sem filtro de ano)\")\n",
    "    americas_data = corruption_data[\n",
    "        corruption_data[entity_col].isin(paises_americas)\n",
    "    ].copy()\n",
    "\n",
    "print(f\"\\ndados filtrados: {len(americas_data)} paises\")\n"
   ],
   "id": "ce3d1e99e3b8d31c",
   "outputs": [
    {
     "name": "stdout",
     "output_type": "stream",
     "text": [
      "coluna de paises identificada: 'Entity'\n",
      "filtrando por ano 2022 nas americas\n",
      "\n",
      "dados filtrados: 6 paises\n"
     ]
    }
   ],
   "execution_count": 26
  },
  {
   "metadata": {
    "ExecuteTime": {
     "end_time": "2025-08-07T20:31:43.389586Z",
     "start_time": "2025-08-07T20:31:43.380776Z"
    }
   },
   "cell_type": "code",
   "source": [
    "if len(americas_data) > 0:\n",
    "    def classificar_regiao(pais):\n",
    "        if pais in ['United States', 'Canada', 'Mexico']:\n",
    "            return 'america do norte'\n",
    "        else:\n",
    "            return 'america do sul'\n",
    "    americas_data['regiao'] = americas_data[entity_col].apply(classificar_regiao)\n",
    "    americas_data = americas_data.rename(columns={corruption_col: 'corruption_index'})\n",
    "    # limpar dados ausentes\n",
    "    americas_data = americas_data.dropna(subset=['corruption_index'])\n",
    "    print(f\"\\ndados finais:\")\n",
    "    print(americas_data[[entity_col, 'corruption_index', 'regiao']].to_string(index=False))\n",
    "else:\n",
    "    print(\"erro\")"
   ],
   "id": "133cda87ebb42755",
   "outputs": [
    {
     "name": "stdout",
     "output_type": "stream",
     "text": [
      "\n",
      "dados finais:\n",
      "       Entity  corruption_index           regiao\n",
      "    Argentina                38   america do sul\n",
      "       Brazil                38   america do sul\n",
      "       Canada                74 america do norte\n",
      "        Chile                67   america do sul\n",
      "       Mexico                31 america do norte\n",
      "United States                69 america do norte\n"
     ]
    }
   ],
   "execution_count": 27
  },
  {
   "metadata": {
    "ExecuteTime": {
     "end_time": "2025-08-07T20:31:46.334564Z",
     "start_time": "2025-08-07T20:31:46.324233Z"
    }
   },
   "cell_type": "code",
   "source": [
    "if len(americas_data) > 0:\n",
    "    print(f\"\\nestatisticas por regiao:\")\n",
    "    stats_desc = americas_data.groupby('regiao').agg({\n",
    "        'corruption_index': ['count', 'mean', 'std', 'min', 'max']\n",
    "    }).round(2)\n",
    "    stats_desc.columns = ['n', 'media', 'desvio', 'minimo', 'maximo']\n",
    "    print(stats_desc)"
   ],
   "id": "36e4b1a12f5091eb",
   "outputs": [
    {
     "name": "stdout",
     "output_type": "stream",
     "text": [
      "\n",
      "estatisticas por regiao:\n",
      "                  n  media  desvio  minimo  maximo\n",
      "regiao                                            \n",
      "america do norte  3  58.00   23.52      31      74\n",
      "america do sul    3  47.67   16.74      38      67\n"
     ]
    }
   ],
   "execution_count": 28
  },
  {
   "metadata": {
    "ExecuteTime": {
     "end_time": "2025-08-07T20:31:50.310123Z",
     "start_time": "2025-08-07T20:31:50.300746Z"
    }
   },
   "cell_type": "code",
   "source": [
    "if len(americas_data) > 0:\n",
    "    north_data = americas_data[americas_data['regiao'] == 'america do norte']['corruption_index']\n",
    "    south_data = americas_data[americas_data['regiao'] == 'america do sul']['corruption_index']\n",
    "    if len(north_data) > 0 and len(south_data) > 0:\n",
    "        t_stat, p_value = ttest_ind(north_data, south_data, equal_var=True)\n",
    "        print(f\"\\nteste t para diferenca de medias\")\n",
    "        print(f\"america do norte: n={len(north_data)}, media={north_data.mean():.2f}\")\n",
    "        print(f\"america do sul: n={len(south_data)}, media={south_data.mean():.2f}\")\n",
    "        print(f\"teste t: {t_stat:.4f}\")\n",
    "        print(f\"p valor: {p_value:.6f}\")\n",
    "        if p_value < 0.05:\n",
    "            print(\"p valor e menor que 0,05, ha diferenca estatisticamente relevante\")\n",
    "        else:\n",
    "            print(\"p valor nao satisfaz a condicao, nao podemos rejeitar a hipotese nula\")\n",
    "    else:\n",
    "        print(\"erro\")\n",
    "else:\n",
    "    print(\"erro\")\n"
   ],
   "id": "1f4e8af7e020f599",
   "outputs": [
    {
     "name": "stdout",
     "output_type": "stream",
     "text": [
      "\n",
      "teste t para diferenca de medias\n",
      "america do norte: n=3, media=58.00\n",
      "america do sul: n=3, media=47.67\n",
      "teste t: 0.6200\n",
      "p valor: 0.568832\n",
      "p valor nao satisfaz a condicao, nao podemos rejeitar a hipotese nula\n"
     ]
    }
   ],
   "execution_count": 29
  },
  {
   "metadata": {
    "ExecuteTime": {
     "end_time": "2025-08-07T20:31:56.638834Z",
     "start_time": "2025-08-07T20:31:56.540305Z"
    }
   },
   "cell_type": "code",
   "source": [
    "print(f\"\\n{'='*60}\")\n",
    "print(\"boxplot - comparacao visual\")\n",
    "print(\"=\"*60)\n",
    "plt.figure(figsize=(10, 6))\n",
    "dados_boxplot = [north_data, south_data]\n",
    "labels = ['america do norte', 'america do sul']\n",
    "box_plot = plt.boxplot(dados_boxplot,\n",
    "                      labels=labels,\n",
    "                      patch_artist=True,\n",
    "                      boxprops=dict(facecolor='lightblue', color='navy'),\n",
    "                      medianprops=dict(color='red', linewidth=2),\n",
    "                      whiskerprops=dict(color='navy'),\n",
    "                      capprops=dict(color='navy'),\n",
    "                      flierprops=dict(marker='o', color='red', alpha=0.7))\n",
    "colors = ['lightcoral', 'lightsteelblue']\n",
    "for patch, color in zip(box_plot['boxes'], colors):\n",
    "    patch.set_facecolor(color)\n",
    "plt.title('distribuicao do indice de corrupcao por regiao',\n",
    "          fontsize=14, fontweight='bold', pad=20)\n",
    "plt.ylabel('indice de corrupcao', fontsize=12, fontweight='bold')\n",
    "plt.xlabel('regiao', fontsize=12, fontweight='bold')\n",
    "info_text = f\"\"\"teste t: {t_stat:.4f}\n",
    "p-valor: {p_value:.6f}\n",
    "significancia: {'sim' if p_value < 0.05 else 'nao'} (a = 0.05)\"\"\"\n",
    "plt.text(0.02, 0.98, info_text,\n",
    "         transform=plt.gca().transAxes,\n",
    "         verticalalignment='top',\n",
    "         bbox=dict(boxstyle='round', facecolor='wheat', alpha=0.8),\n",
    "         fontsize=10)\n",
    "plt.grid(True, alpha=0.3, axis='y')\n",
    "plt.ylim(0, None)\n",
    "plt.tight_layout()\n",
    "plt.show()\n",
    "\n",
    "print(f\"\\nestatisticas descritivas:\")\n",
    "print(\"-\" * 40)\n",
    "print(f\"america do norte:\")\n",
    "print(f\"  media: {north_data.mean():.2f}\")\n",
    "print(f\"  mediana: {north_data.median():.2f}\")\n",
    "print(f\"  desvio padrao: {north_data.std():.2f}\")\n",
    "print(f\"  min: {north_data.min():.2f} | max: {north_data.max():.2f}\")\n",
    "print(f\"\\namerica do sul:\")\n",
    "print(f\"  media: {south_data.mean():.2f}\")\n",
    "print(f\"  mediana: {south_data.median():.2f}\")\n",
    "print(f\"  desvio padrao: {south_data.std():.2f}\")\n",
    "print(f\"  min: {south_data.min():.2f} | max: {south_data.max():.2f}\")\n"
   ],
   "id": "a4b7b34c276598b0",
   "outputs": [
    {
     "name": "stdout",
     "output_type": "stream",
     "text": [
      "\n",
      "============================================================\n",
      "boxplot - comparacao visual\n",
      "============================================================\n"
     ]
    },
    {
     "data": {
      "text/plain": [
       "<Figure size 1000x600 with 1 Axes>"
      ],
      "image/png": "[encoded data removed]"
     },
     "metadata": {},
     "output_type": "display_data"
    },
    {
     "name": "stdout",
     "output_type": "stream",
     "text": [
      "\n",
      "estatisticas descritivas:\n",
      "----------------------------------------\n",
      "america do norte:\n",
      "  media: 58.00\n",
      "  mediana: 69.00\n",
      "  desvio padrao: 23.52\n",
      "  min: 31.00 | max: 74.00\n",
      "\n",
      "america do sul:\n",
      "  media: 47.67\n",
      "  mediana: 38.00\n",
      "  desvio padrao: 16.74\n",
      "  min: 38.00 | max: 67.00\n"
     ]
    }
   ],
   "execution_count": 30
  },
  {
   "metadata": {
    "ExecuteTime": {
     "end_time": "2025-08-07T20:34:44.847002Z",
     "start_time": "2025-08-07T20:34:44.487977Z"
    }
   },
   "cell_type": "code",
   "source": [
    "print(f\"\\n{'='*60}\")\n",
    "print(\"correlacao - democracia e empoderamento feminino\")\n",
    "print(\"=\"*60)\n",
    "democracy_url = github_base + \"liberal_democracy_index.csv\"\n",
    "women_url = github_base + \"women_political_empowerment_index.csv\"\n",
    "try:\n",
    "    print(f\"carregando democracia: {democracy_url}\")\n",
    "    democracy_data = pd.read_csv(democracy_url, sep=';', encoding='utf-8')\n",
    "    print(f\"democracia: {democracy_data.shape[0]} linhas x {democracy_data.shape[1]} colunas\")\n",
    "    print(f\"carregando empoderamento: {women_url}\")\n",
    "    women_data = pd.read_csv(women_url, sep=';', encoding='utf-8')\n",
    "    print(f\"empoderamento: {women_data.shape[0]} linhas x {women_data.shape[1]} colunas\")\n",
    "    print(f\"\\ncolunas democracia:\")\n",
    "    for i, col in enumerate(democracy_data.columns, 1):\n",
    "        print(f\"   {i:2d}. {col}\")\n",
    "    print(f\"\\ncolunas empoderamento:\")\n",
    "    for i, col in enumerate(women_data.columns, 1):\n",
    "        print(f\"   {i:2d}. {col}\")\n",
    "    democracy_year_cols = [col for col in democracy_data.columns if 'year' in col.lower()]\n",
    "    women_year_cols = [col for col in women_data.columns if 'year' in col.lower()]\n",
    "    democracy_index_cols = [col for col in democracy_data.columns if 'democracy' in col.lower()]\n",
    "    women_index_cols = [col for col in women_data.columns\n",
    "                       if any(word in col.lower() for word in ['women', 'empowerment', 'political'])]\n",
    "    if democracy_index_cols and women_index_cols:\n",
    "        democracy_col = democracy_index_cols[0]\n",
    "        women_col = women_index_cols[0]\n",
    "        print(f\"\\nindice democracia: '{democracy_col}'\")\n",
    "        print(f\"indice empoderamento: '{women_col}'\")\n",
    "        # tentativa de identificar colunas de paises\n",
    "        democracy_entity_cols = [col for col in democracy_data.columns if any(word in col.lower() for word in ['entity', 'country', 'name'])]\n",
    "        women_entity_cols = [col for col in women_data.columns if any(word in col.lower() for word in ['entity', 'country', 'name'])]\n",
    "        democracy_entity_col = democracy_entity_cols[0] if democracy_entity_cols else democracy_data.columns[0]\n",
    "        women_entity_col = women_entity_cols[0] if women_entity_cols else women_data.columns[0]\n",
    "        print(f\"coluna de paises em democracia: '{democracy_entity_col}'\")\n",
    "        print(f\"coluna de paises em empoderamento: '{women_entity_col}'\")\n",
    "\n",
    "        # identificar colunas de codigo\n",
    "        democracy_code_cols = [col for col in democracy_data.columns if 'code' in col.lower()]\n",
    "        women_code_cols = [col for col in women_data.columns if 'code' in col.lower()]\n",
    "        democracy_code_col = democracy_code_cols[0] if democracy_code_cols else None\n",
    "        women_code_col = women_code_cols[0] if women_code_cols else None\n",
    "\n",
    "        if democracy_year_cols and women_year_cols:\n",
    "            democracy_year_col = democracy_year_cols[0]\n",
    "            women_year_col = women_year_cols[0]\n",
    "            print(f\"filtrando dados para 2022\")\n",
    "            democracy_2022 = democracy_data[democracy_data[democracy_year_col] == 2022]\n",
    "            women_2022 = women_data[women_data[women_year_col] == 2022]\n",
    "            print(f\"democracia 2022: {len(democracy_2022)} paises\")\n",
    "            print(f\"empoderamento 2022: {len(women_2022)} paises\")\n",
    "        else:\n",
    "            print(\"colunas de ano nao encontradas, usando todos os dados\")\n",
    "            democracy_2022 = democracy_data.copy()\n",
    "            women_2022 = women_data.copy()\n",
    "\n",
    "        # selecionar colunas necessarias\n",
    "        if democracy_code_col and women_code_col:\n",
    "            democracy_subset = democracy_2022[[democracy_entity_col, democracy_code_col, democracy_col]].rename(\n",
    "                columns={democracy_col: 'democracy_index', democracy_entity_col: 'entity', democracy_code_col: 'code'}\n",
    "            ).dropna()\n",
    "            women_subset = women_2022[[women_entity_col, women_code_col, women_col]].rename(\n",
    "                columns={women_col: 'women_index', women_entity_col: 'entity', women_code_col: 'code'}\n",
    "            ).dropna()\n",
    "        else:\n",
    "            democracy_subset = democracy_2022[[democracy_entity_col, democracy_col]].rename(\n",
    "                columns={democracy_col: 'democracy_index', democracy_entity_col: 'entity'}\n",
    "            ).dropna()\n",
    "            women_subset = women_2022[[women_entity_col, women_col]].rename(\n",
    "                columns={women_col: 'women_index', women_entity_col: 'entity'}\n",
    "            ).dropna()\n",
    "\n",
    "        # tentar fazer o merge\n",
    "        if democracy_code_col and women_code_col:\n",
    "            combined_data = pd.merge(democracy_subset, women_subset, on=['entity', 'code'], how='inner')\n",
    "        else:\n",
    "            combined_data = pd.merge(democracy_subset, women_subset, on=['entity'], how='inner')\n",
    "\n",
    "        combined_data = combined_data.dropna()\n",
    "        print(f\"\\ndados combinados: {len(combined_data)} paises\")\n",
    "        if len(combined_data) > 10:\n",
    "            print(f\"\\namostra dos dados:\")\n",
    "            print(combined_data.head(10)[['entity', 'democracy_index', 'women_index']].round(3).to_string(index=False))\n",
    "            print(\"dados prontos\")\n",
    "        else:\n",
    "            print(\"erro de dados insuficientes\")\n",
    "    else:\n",
    "        print(\"erro - colunas de indices nao encontradas\")\n",
    "except Exception as e:\n",
    "    print(f\"erro para carregar dados: {e}\")"
   ],
   "id": "a5158ce592c8eb03",
   "outputs": [
    {
     "name": "stdout",
     "output_type": "stream",
     "text": [
      "\n",
      "============================================================\n",
      "correlacao - democracia e empoderamento feminino\n",
      "============================================================\n",
      "carregando democracia: https://raw.githubusercontent.com/diegoamrg4123/script_estatistica_aplicada_2023/main/liberal_democracy_index.csv\n",
      "democracia: 32267 linhas x 5 colunas\n",
      "carregando empoderamento: https://raw.githubusercontent.com/diegoamrg4123/script_estatistica_aplicada_2023/main/women_political_empowerment_index.csv\n",
      "erro para carregar dados: HTTP Error 429: Too Many Requests\n"
     ]
    }
   ],
   "execution_count": 34
  },
  {
   "metadata": {
    "ExecuteTime": {
     "end_time": "2025-08-07T20:34:50.948300Z",
     "start_time": "2025-08-07T20:34:50.941497Z"
    }
   },
   "cell_type": "code",
   "source": [
    "r_corr, p_corr = pearsonr(combined_data['democracy_index'], combined_data['women_index'])\n",
    "print(f\"\\nanalise de correlacao de pearson:\")\n",
    "print(f\"correlacao de pearson (r): {r_corr:.4f}\")\n",
    "print(f\"p-valor: {p_corr:.6f}\")\n",
    "print(f\"r2 (variancia explicada): {r_corr**2:.4f} ({r_corr**2:.1%})\")\n",
    "if abs(r_corr) < 0.3:\n",
    "    forca = \"fraca\"\n",
    "elif abs(r_corr) < 0.7:\n",
    "    forca = \"moderada\"\n",
    "else:\n",
    "    forca = \"forte\"\n",
    "direcao = \"positiva\" if r_corr > 0 else \"negativa\"\n",
    "print(f\"correlacao {forca} e {direcao}\")\n",
    "if p_corr < 0.001:\n",
    "    print(\"correlacao altamente significativa (p < 0.001)\")\n",
    "elif p_corr < 0.05:\n",
    "    print(\"correlacao significativa (p < 0.05)\")\n",
    "else:\n",
    "    print(\"correlacao nao significativa\")\n"
   ],
   "id": "713ae030cff16777",
   "outputs": [
    {
     "name": "stdout",
     "output_type": "stream",
     "text": [
      "\n",
      "analise de correlacao de pearson:\n",
      "correlacao de pearson (r): 0.7787\n",
      "p-valor: 0.000000\n",
      "r2 (variancia explicada): 0.6064 (60.6%)\n",
      "correlacao forte e positiva\n",
      "correlacao altamente significativa (p < 0.001)\n"
     ]
    }
   ],
   "execution_count": 35
  },
  {
   "metadata": {
    "ExecuteTime": {
     "end_time": "2025-08-07T20:34:54.703962Z",
     "start_time": "2025-08-07T20:34:54.693566Z"
    }
   },
   "cell_type": "code",
   "source": [
    "print(f\"\\n{'='*60}\")\n",
    "print(\"regressao linear\")\n",
    "print(\"=\"*60)\n",
    "X = combined_data['democracy_index']\n",
    "y = combined_data['women_index']\n",
    "X_const = sm.add_constant(X)\n",
    "modelo = sm.OLS(y, X_const).fit()\n",
    "print(\"resultados do modelo:\")\n",
    "print(f\"r2: {modelo.rsquared:.4f} ({modelo.rsquared:.1%})\")\n",
    "print(f\"r2 ajustado: {modelo.rsquared_adj:.4f}\")\n",
    "print(f\"p-valor do modelo: {modelo.f_pvalue:.2e}\")\n",
    "intercepto = modelo.params[0]\n",
    "coef_democracia = modelo.params[1]\n",
    "print(f\"\\ncoeficientes:\")\n",
    "print(f\"intercepto: {intercepto:.4f}\")\n",
    "print(f\"democracia: {coef_democracia:.4f}\")\n",
    "print(f\"para cada +1 na democracia, empoderamento aumenta {coef_democracia:.4f}\")\n",
    "if modelo.f_pvalue < 0.05:\n",
    "    print(\"relacao estatisticamente significante\")\n",
    "else:\n",
    "    print(\"p valor nao e menor que 0,05\")\n"
   ],
   "id": "785bf8f147a747b4",
   "outputs": [
    {
     "name": "stdout",
     "output_type": "stream",
     "text": [
      "\n",
      "============================================================\n",
      "regressao linear\n",
      "============================================================\n",
      "resultados do modelo:\n",
      "r2: 0.6064 (60.6%)\n",
      "r2 ajustado: 0.6042\n",
      "p-valor do modelo: 1.77e-37\n",
      "\n",
      "coeficientes:\n",
      "intercepto: 0.5052\n",
      "democracia: 0.5641\n",
      "para cada +1 na democracia, empoderamento aumenta 0.5641\n",
      "relacao estatisticamente significante\n"
     ]
    }
   ],
   "execution_count": 36
  },
  {
   "metadata": {
    "ExecuteTime": {
     "end_time": "2025-08-07T20:34:58.151830Z",
     "start_time": "2025-08-07T20:34:58.006106Z"
    }
   },
   "cell_type": "code",
   "source": [
    "plt.figure(figsize=(12, 8))\n",
    "plt.scatter(X, y, alpha=0.6, color='steelblue', s=60, edgecolor='white', linewidth=0.5)\n",
    "x_linha = np.linspace(X.min(), X.max(), 100)\n",
    "y_linha = intercepto + coef_democracia * x_linha\n",
    "plt.plot(x_linha, y_linha, color='red', linewidth=2.5, label=f'linha de regressao')\n",
    "plt.xlabel('indice de democracia', fontsize=12, fontweight='bold')\n",
    "plt.ylabel('indice de empoderamento das mulheres', fontsize=12, fontweight='bold')\n",
    "plt.title('regressao linear: democracia vs empoderamento das mulheres',\n",
    "          fontsize=14, fontweight='bold', pad=20)\n",
    "texto_stats = f\"\"\"r2 = {modelo.rsquared:.4f}\n",
    "r2 ajustado = {modelo.rsquared_adj:.4f}\n",
    "p-valor = {modelo.f_pvalue:.2e}\n",
    "equacao: y = {intercepto:.4f} + {coef_democracia:.4f}x\"\"\"\n",
    "plt.text(0.02, 0.98, texto_stats,\n",
    "         transform=plt.gca().transAxes,\n",
    "         verticalalignment='top',\n",
    "         bbox=dict(boxstyle='round', facecolor='wheat', alpha=0.8),\n",
    "         fontsize=10)\n",
    "plt.grid(True, alpha=0.3)\n",
    "plt.legend(fontsize=11)\n",
    "plt.tight_layout()\n",
    "plt.show()"
   ],
   "id": "f498aeebfe3f2345",
   "outputs": [
    {
     "data": {
      "text/plain": [
       "<Figure size 1200x800 with 1 Axes>"
      ],
      "image/png": "[encoded data removed]"
     },
     "metadata": {},
     "output_type": "display_data"
    }
   ],
   "execution_count": 37
  }
 ],
 "metadata": {
  "kernelspec": {
   "display_name": "Python [conda env:base] *",
   "language": "python",
   "name": "conda-base-py"
  },
  "language_info": {
   "codemirror_mode": {
    "name": "ipython",
    "version": 2
   },
   "file_extension": ".py",
   "mimetype": "text/x-python",
   "name": "python",
   "nbconvert_exporter": "python",
   "pygments_lexer": "ipython2",
   "version": "2.7.6"
  }
 },
 "nbformat": 4,
 "nbformat_minor": 5
}
